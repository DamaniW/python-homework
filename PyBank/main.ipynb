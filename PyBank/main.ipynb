{
 "cells": [
  {
   "cell_type": "code",
   "execution_count": 1,
   "id": "3daf5b90-4183-4933-a18b-8422858807ab",
   "metadata": {},
   "outputs": [],
   "source": [
    "import pandas as pd"
   ]
  },
  {
   "cell_type": "code",
   "execution_count": 4,
   "id": "2296a78c-2b21-4a91-90b1-99cafeeefac3",
   "metadata": {},
   "outputs": [],
   "source": [
    "budget_df = pd.read_csv(\"budget_data.csv\", parse_dates=True, index_col='Date', infer_datetime_format=True)"
   ]
  },
  {
   "cell_type": "code",
   "execution_count": 5,
   "id": "4d3defb0-4b5a-4fba-9f93-a41af5daa589",
   "metadata": {},
   "outputs": [
    {
     "data": {
      "text/html": [
       "<div>\n",
       "<style scoped>\n",
       "    .dataframe tbody tr th:only-of-type {\n",
       "        vertical-align: middle;\n",
       "    }\n",
       "\n",
       "    .dataframe tbody tr th {\n",
       "        vertical-align: top;\n",
       "    }\n",
       "\n",
       "    .dataframe thead th {\n",
       "        text-align: right;\n",
       "    }\n",
       "</style>\n",
       "<table border=\"1\" class=\"dataframe\">\n",
       "  <thead>\n",
       "    <tr style=\"text-align: right;\">\n",
       "      <th></th>\n",
       "      <th>Profit/Losses</th>\n",
       "    </tr>\n",
       "    <tr>\n",
       "      <th>Date</th>\n",
       "      <th></th>\n",
       "    </tr>\n",
       "  </thead>\n",
       "  <tbody>\n",
       "    <tr>\n",
       "      <th>2010-01-01</th>\n",
       "      <td>867884</td>\n",
       "    </tr>\n",
       "    <tr>\n",
       "      <th>2010-02-01</th>\n",
       "      <td>984655</td>\n",
       "    </tr>\n",
       "    <tr>\n",
       "      <th>2010-03-01</th>\n",
       "      <td>322013</td>\n",
       "    </tr>\n",
       "    <tr>\n",
       "      <th>2010-04-01</th>\n",
       "      <td>-69417</td>\n",
       "    </tr>\n",
       "    <tr>\n",
       "      <th>2010-05-01</th>\n",
       "      <td>310503</td>\n",
       "    </tr>\n",
       "    <tr>\n",
       "      <th>...</th>\n",
       "      <td>...</td>\n",
       "    </tr>\n",
       "    <tr>\n",
       "      <th>2016-10-01</th>\n",
       "      <td>102685</td>\n",
       "    </tr>\n",
       "    <tr>\n",
       "      <th>2016-11-01</th>\n",
       "      <td>795914</td>\n",
       "    </tr>\n",
       "    <tr>\n",
       "      <th>2016-12-01</th>\n",
       "      <td>60988</td>\n",
       "    </tr>\n",
       "    <tr>\n",
       "      <th>2017-01-01</th>\n",
       "      <td>138230</td>\n",
       "    </tr>\n",
       "    <tr>\n",
       "      <th>2017-02-01</th>\n",
       "      <td>671099</td>\n",
       "    </tr>\n",
       "  </tbody>\n",
       "</table>\n",
       "<p>86 rows × 1 columns</p>\n",
       "</div>"
      ],
      "text/plain": [
       "            Profit/Losses\n",
       "Date                     \n",
       "2010-01-01         867884\n",
       "2010-02-01         984655\n",
       "2010-03-01         322013\n",
       "2010-04-01         -69417\n",
       "2010-05-01         310503\n",
       "...                   ...\n",
       "2016-10-01         102685\n",
       "2016-11-01         795914\n",
       "2016-12-01          60988\n",
       "2017-01-01         138230\n",
       "2017-02-01         671099\n",
       "\n",
       "[86 rows x 1 columns]"
      ]
     },
     "execution_count": 5,
     "metadata": {},
     "output_type": "execute_result"
    }
   ],
   "source": [
    "budget_df"
   ]
  },
  {
   "cell_type": "code",
   "execution_count": 9,
   "id": "05bbdea8-163b-4a32-8105-a9f9d35786e2",
   "metadata": {},
   "outputs": [
    {
     "data": {
      "text/plain": [
       "DatetimeIndex(['2010-01-01', '2010-02-01', '2010-03-01', '2010-04-01',\n",
       "               '2010-05-01', '2010-06-01', '2010-07-01', '2010-08-01',\n",
       "               '2010-09-01', '2010-10-01', '2010-11-01', '2010-12-01',\n",
       "               '2011-01-01', '2011-02-01', '2011-03-01', '2011-04-01',\n",
       "               '2011-05-01', '2011-06-01', '2011-07-01', '2011-08-01',\n",
       "               '2011-09-01', '2011-10-01', '2011-11-01', '2011-12-01',\n",
       "               '2012-01-01', '2012-02-01', '2012-03-01', '2012-04-01',\n",
       "               '2012-05-01', '2012-06-01', '2012-07-01', '2012-08-01',\n",
       "               '2012-09-01', '2012-10-01', '2012-11-01', '2012-12-01',\n",
       "               '2013-01-01', '2013-02-01', '2013-03-01', '2013-04-01',\n",
       "               '2013-05-01', '2013-06-01', '2013-07-01', '2013-08-01',\n",
       "               '2013-09-01', '2013-10-01', '2013-11-01', '2013-12-01',\n",
       "               '2014-01-01', '2014-02-01', '2014-03-01', '2014-04-01',\n",
       "               '2014-05-01', '2014-06-01', '2014-07-01', '2014-08-01',\n",
       "               '2014-09-01', '2014-10-01', '2014-11-01', '2014-12-01',\n",
       "               '2015-01-01', '2015-02-01', '2015-03-01', '2015-04-01',\n",
       "               '2015-05-01', '2015-06-01', '2015-07-01', '2015-08-01',\n",
       "               '2015-09-01', '2015-10-01', '2015-11-01', '2015-12-01',\n",
       "               '2016-01-01', '2016-02-01', '2016-03-01', '2016-04-01',\n",
       "               '2016-05-01', '2016-06-01', '2016-07-01', '2016-08-01',\n",
       "               '2016-09-01', '2016-10-01', '2016-11-01', '2016-12-01',\n",
       "               '2017-01-01', '2017-02-01'],\n",
       "              dtype='datetime64[ns]', name='Date', freq=None)"
      ]
     },
     "execution_count": 9,
     "metadata": {},
     "output_type": "execute_result"
    }
   ],
   "source": [
    "budget_df.index"
   ]
  },
  {
   "cell_type": "code",
   "execution_count": 10,
   "id": "9ea5060e-c25f-4f90-8da3-60cfda6bf379",
   "metadata": {},
   "outputs": [
    {
     "data": {
      "text/plain": [
       "86"
      ]
     },
     "execution_count": 10,
     "metadata": {},
     "output_type": "execute_result"
    }
   ],
   "source": [
    "len(budget_df.index)"
   ]
  },
  {
   "cell_type": "code",
   "execution_count": 11,
   "id": "ffe272ed-d947-4bda-bd05-8779231634db",
   "metadata": {},
   "outputs": [
    {
     "data": {
      "text/plain": [
       "86"
      ]
     },
     "execution_count": 11,
     "metadata": {},
     "output_type": "execute_result"
    }
   ],
   "source": [
    "total_months = len(budget_df.index)\n",
    "total_months"
   ]
  },
  {
   "cell_type": "code",
   "execution_count": 12,
   "id": "7254ecfe-19d7-46ad-89a1-140eff486e2c",
   "metadata": {},
   "outputs": [
    {
     "data": {
      "text/plain": [
       "38382578"
      ]
     },
     "execution_count": 12,
     "metadata": {},
     "output_type": "execute_result"
    }
   ],
   "source": [
    "budget_df['Profit/Losses'].sum()"
   ]
  },
  {
   "cell_type": "code",
   "execution_count": 14,
   "id": "17e18dd7-fde0-4d2f-a56b-14019ebb09f2",
   "metadata": {},
   "outputs": [
    {
     "data": {
      "text/plain": [
       "38382578"
      ]
     },
     "execution_count": 14,
     "metadata": {},
     "output_type": "execute_result"
    }
   ],
   "source": [
    "total = budget_df['Profit/Losses'].sum()\n",
    "total"
   ]
  },
  {
   "cell_type": "code",
   "execution_count": 30,
   "id": "76ba16e2-cc96-4368-acf5-9fac39e4a28d",
   "metadata": {},
   "outputs": [
    {
     "data": {
      "text/plain": [
       "Date\n",
       "2010-01-01         NaN\n",
       "2010-02-01    116771.0\n",
       "2010-03-01   -662642.0\n",
       "2010-04-01   -391430.0\n",
       "2010-05-01    379920.0\n",
       "                ...   \n",
       "2016-10-01   -665765.0\n",
       "2016-11-01    693229.0\n",
       "2016-12-01   -734926.0\n",
       "2017-01-01     77242.0\n",
       "2017-02-01    532869.0\n",
       "Name: Profit/Losses, Length: 86, dtype: float64"
      ]
     },
     "execution_count": 30,
     "metadata": {},
     "output_type": "execute_result"
    }
   ],
   "source": [
    "budget_df['Profit/Losses'].diff()"
   ]
  },
  {
   "cell_type": "code",
   "execution_count": 24,
   "id": "d4896304-7e7c-4a56-be49-b84616ff67a4",
   "metadata": {},
   "outputs": [],
   "source": [
    "monthly_chng = list(budget_df['Profit/Losses'])"
   ]
  },
  {
   "cell_type": "code",
   "execution_count": 27,
   "id": "e33af654-1d5f-4f5e-baae-5507302505db",
   "metadata": {},
   "outputs": [],
   "source": [
    "date = list(budget_df.index)"
   ]
  },
  {
   "cell_type": "code",
   "execution_count": 31,
   "id": "8e7e4385-79b5-47b8-9ae8-08f9878c2d92",
   "metadata": {},
   "outputs": [
    {
     "data": {
      "text/plain": [
       "Date\n",
       "2010-01-01         NaN\n",
       "2010-02-01    116771.0\n",
       "2010-03-01   -662642.0\n",
       "2010-04-01   -391430.0\n",
       "2010-05-01    379920.0\n",
       "                ...   \n",
       "2016-10-01   -665765.0\n",
       "2016-11-01    693229.0\n",
       "2016-12-01   -734926.0\n",
       "2017-01-01     77242.0\n",
       "2017-02-01    532869.0\n",
       "Name: Monthly Change, Length: 86, dtype: float64"
      ]
     },
     "execution_count": 31,
     "metadata": {},
     "output_type": "execute_result"
    }
   ],
   "source": [
    "budget_df['Monthly Change'] = budget_df['Profit/Losses'].diff()\n",
    "budget_df['Monthly Change']"
   ]
  },
  {
   "cell_type": "code",
   "execution_count": 32,
   "id": "7c2df671-53b2-4af7-8bdd-c6bb2403c64e",
   "metadata": {},
   "outputs": [
    {
     "data": {
      "text/html": [
       "<div>\n",
       "<style scoped>\n",
       "    .dataframe tbody tr th:only-of-type {\n",
       "        vertical-align: middle;\n",
       "    }\n",
       "\n",
       "    .dataframe tbody tr th {\n",
       "        vertical-align: top;\n",
       "    }\n",
       "\n",
       "    .dataframe thead th {\n",
       "        text-align: right;\n",
       "    }\n",
       "</style>\n",
       "<table border=\"1\" class=\"dataframe\">\n",
       "  <thead>\n",
       "    <tr style=\"text-align: right;\">\n",
       "      <th></th>\n",
       "      <th>Profit/Losses</th>\n",
       "      <th>Monthly Change</th>\n",
       "    </tr>\n",
       "    <tr>\n",
       "      <th>Date</th>\n",
       "      <th></th>\n",
       "      <th></th>\n",
       "    </tr>\n",
       "  </thead>\n",
       "  <tbody>\n",
       "    <tr>\n",
       "      <th>2010-01-01</th>\n",
       "      <td>867884</td>\n",
       "      <td>NaN</td>\n",
       "    </tr>\n",
       "    <tr>\n",
       "      <th>2010-02-01</th>\n",
       "      <td>984655</td>\n",
       "      <td>116771.0</td>\n",
       "    </tr>\n",
       "    <tr>\n",
       "      <th>2010-03-01</th>\n",
       "      <td>322013</td>\n",
       "      <td>-662642.0</td>\n",
       "    </tr>\n",
       "    <tr>\n",
       "      <th>2010-04-01</th>\n",
       "      <td>-69417</td>\n",
       "      <td>-391430.0</td>\n",
       "    </tr>\n",
       "    <tr>\n",
       "      <th>2010-05-01</th>\n",
       "      <td>310503</td>\n",
       "      <td>379920.0</td>\n",
       "    </tr>\n",
       "    <tr>\n",
       "      <th>...</th>\n",
       "      <td>...</td>\n",
       "      <td>...</td>\n",
       "    </tr>\n",
       "    <tr>\n",
       "      <th>2016-10-01</th>\n",
       "      <td>102685</td>\n",
       "      <td>-665765.0</td>\n",
       "    </tr>\n",
       "    <tr>\n",
       "      <th>2016-11-01</th>\n",
       "      <td>795914</td>\n",
       "      <td>693229.0</td>\n",
       "    </tr>\n",
       "    <tr>\n",
       "      <th>2016-12-01</th>\n",
       "      <td>60988</td>\n",
       "      <td>-734926.0</td>\n",
       "    </tr>\n",
       "    <tr>\n",
       "      <th>2017-01-01</th>\n",
       "      <td>138230</td>\n",
       "      <td>77242.0</td>\n",
       "    </tr>\n",
       "    <tr>\n",
       "      <th>2017-02-01</th>\n",
       "      <td>671099</td>\n",
       "      <td>532869.0</td>\n",
       "    </tr>\n",
       "  </tbody>\n",
       "</table>\n",
       "<p>86 rows × 2 columns</p>\n",
       "</div>"
      ],
      "text/plain": [
       "            Profit/Losses  Monthly Change\n",
       "Date                                     \n",
       "2010-01-01         867884             NaN\n",
       "2010-02-01         984655        116771.0\n",
       "2010-03-01         322013       -662642.0\n",
       "2010-04-01         -69417       -391430.0\n",
       "2010-05-01         310503        379920.0\n",
       "...                   ...             ...\n",
       "2016-10-01         102685       -665765.0\n",
       "2016-11-01         795914        693229.0\n",
       "2016-12-01          60988       -734926.0\n",
       "2017-01-01         138230         77242.0\n",
       "2017-02-01         671099        532869.0\n",
       "\n",
       "[86 rows x 2 columns]"
      ]
     },
     "execution_count": 32,
     "metadata": {},
     "output_type": "execute_result"
    }
   ],
   "source": [
    "budget_df"
   ]
  },
  {
   "cell_type": "code",
   "execution_count": 41,
   "id": "8ce39c12-bd34-4c7b-a862-b3e7bd6649c2",
   "metadata": {},
   "outputs": [
    {
     "data": {
      "text/plain": [
       "-2315.1176470588234"
      ]
     },
     "execution_count": 41,
     "metadata": {},
     "output_type": "execute_result"
    }
   ],
   "source": [
    "budget_df['Monthly Change'].mean()"
   ]
  },
  {
   "cell_type": "code",
   "execution_count": 42,
   "id": "d98ca1cc-5c73-46e0-8863-98b4a4106a42",
   "metadata": {},
   "outputs": [
    {
     "data": {
      "text/plain": [
       "-2315.1176470588234"
      ]
     },
     "execution_count": 42,
     "metadata": {},
     "output_type": "execute_result"
    }
   ],
   "source": [
    "avg_change = budget_df['Monthly Change'].mean()\n",
    "avg_change"
   ]
  },
  {
   "cell_type": "code",
   "execution_count": 34,
   "id": "c51cd9fd-47be-47a9-8325-263e9269a4c0",
   "metadata": {},
   "outputs": [
    {
     "data": {
      "text/plain": [
       "1926159.0"
      ]
     },
     "execution_count": 34,
     "metadata": {},
     "output_type": "execute_result"
    }
   ],
   "source": [
    "budget_df['Monthly Change'].max()"
   ]
  },
  {
   "cell_type": "code",
   "execution_count": 35,
   "id": "1068d55c-0ce2-451c-a602-b3ff8588803b",
   "metadata": {},
   "outputs": [
    {
     "data": {
      "text/plain": [
       "1926159.0"
      ]
     },
     "execution_count": 35,
     "metadata": {},
     "output_type": "execute_result"
    }
   ],
   "source": [
    "big_increase = budget_df['Monthly Change'].max()\n",
    "big_increase"
   ]
  },
  {
   "cell_type": "code",
   "execution_count": 37,
   "id": "1cae3eac-5a62-4d2c-8f9c-049923097a6f",
   "metadata": {},
   "outputs": [
    {
     "data": {
      "text/plain": [
       "-2196167.0"
      ]
     },
     "execution_count": 37,
     "metadata": {},
     "output_type": "execute_result"
    }
   ],
   "source": [
    "big_decrease = budget_df['Monthly Change'].min()\n",
    "big_decrease"
   ]
  },
  {
   "cell_type": "code",
   "execution_count": 43,
   "id": "0532827e-ff75-4ce4-96a2-7cc2db4a9f93",
   "metadata": {},
   "outputs": [
    {
     "name": "stdout",
     "output_type": "stream",
     "text": [
      "Financial Analysis\n",
      "~~~~~~~~~~~~~~~~~~~~~~~~~~~~~~~~\n",
      "Total Months: 86\n",
      "Total: $38,382,578.00\n",
      "Average Change: $-2,315.12\n",
      "Greatest Increase in Profits: ( $1,926,159.00 )\n",
      "Greatest Decrease in Profits: ( $-2,196,167.00 )\n"
     ]
    }
   ],
   "source": [
    "def fin_analysis():\n",
    "    print (\"Financial Analysis\")\n",
    "    print (\"~~~~~~~~~~~~~~~~~~~~~~~~~~~~~~~~\")\n",
    "    print (\"Total Months:\", total_months) \n",
    "    print (\"Total:\", '${:,.2f}'.format(total))\n",
    "    print (\"Average Change:\", '${:,.2f}'.format(avg_change))\n",
    "    print (\"Greatest Increase in Profits:\",\"(\", '${:,.2f}'.format(big_increase), \")\")\n",
    "    print (\"Greatest Decrease in Profits:\",\"(\", '${:,.2f}'.format(big_decrease), \")\")\n",
    "fin_analysis()"
   ]
  },
  {
   "cell_type": "code",
   "execution_count": null,
   "id": "f438a540-bcdb-4888-b7b7-9386cd47acef",
   "metadata": {},
   "outputs": [],
   "source": []
  }
 ],
 "metadata": {
  "kernelspec": {
   "display_name": "Python 3",
   "language": "python",
   "name": "python3"
  },
  "language_info": {
   "codemirror_mode": {
    "name": "ipython",
    "version": 3
   },
   "file_extension": ".py",
   "mimetype": "text/x-python",
   "name": "python",
   "nbconvert_exporter": "python",
   "pygments_lexer": "ipython3",
   "version": "3.8.8"
  }
 },
 "nbformat": 4,
 "nbformat_minor": 5
}
